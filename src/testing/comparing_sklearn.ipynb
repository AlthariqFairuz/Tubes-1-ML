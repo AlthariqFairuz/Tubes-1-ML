{
 "cells": [
  {
   "cell_type": "code",
   "execution_count": 1,
   "metadata": {},
   "outputs": [],
   "source": [
    "import sys\n",
    "import os\n",
    "\n",
    "sys.path.append(os.path.abspath(os.path.join(os.getcwd(), \"../\")))"
   ]
  },
  {
   "cell_type": "code",
   "execution_count": 2,
   "metadata": {},
   "outputs": [],
   "source": [
    "import numpy as np\n",
    "import matplotlib.pyplot as plt\n",
    "from sklearn.datasets import fetch_openml\n",
    "from sklearn.model_selection import train_test_split\n",
    "from sklearn.neural_network import MLPClassifier\n",
    "from sklearn.metrics import accuracy_score\n",
    "from sklearn.preprocessing import OneHotEncoder\n",
    "import time\n",
    "\n",
    "from models import FFNN\n",
    "\n",
    "%load_ext autoreload\n",
    "%autoreload 2"
   ]
  },
  {
   "cell_type": "code",
   "execution_count": 3,
   "metadata": {},
   "outputs": [
    {
     "name": "stdout",
     "output_type": "stream",
     "text": [
      "Downloading MNIST dataset...\n"
     ]
    }
   ],
   "source": [
    "print(\"Downloading MNIST dataset...\")\n",
    "X, y = fetch_openml('mnist_784', version=1, return_X_y=True, parser='auto')\n",
    "X = X.astype(float)\n",
    "y = y.astype(int)"
   ]
  },
  {
   "cell_type": "code",
   "execution_count": 4,
   "metadata": {},
   "outputs": [],
   "source": [
    "X = np.array(X)\n",
    "y = np.array(y)\n",
    "\n",
    "X = X / 255.0\n",
    "\n",
    "X_train, X_test, y_train, y_test = train_test_split(X, y, test_size=0.2, random_state=42)\n",
    "\n",
    "encoder = OneHotEncoder(sparse_output=False, categories='auto')\n",
    "y_train_one_hot = encoder.fit_transform(y_train.reshape(-1, 1))\n",
    "y_test_one_hot = encoder.transform(y_test.reshape(-1, 1))\n",
    "\n",
    "input_size = 784  # images 28x28 = 784 pixels\n",
    "hidden_sizes = [64,64,64] \n",
    "output_size = 10  "
   ]
  },
  {
   "cell_type": "code",
   "execution_count": 5,
   "metadata": {},
   "outputs": [
    {
     "name": "stdout",
     "output_type": "stream",
     "text": [
      "\n",
      "Training sklearn MLPClassifier...\n",
      "sklearn MLPClassifier training time: 15.02 seconds\n",
      "SKLearn Prediction : 0.9666428571428571\n"
     ]
    },
    {
     "name": "stderr",
     "output_type": "stream",
     "text": [
      "c:\\Users\\Randy Verdian\\AppData\\Local\\Programs\\Python\\Python311\\Lib\\site-packages\\sklearn\\neural_network\\_multilayer_perceptron.py:690: ConvergenceWarning: Stochastic Optimizer: Maximum iterations (10) reached and the optimization hasn't converged yet.\n",
      "  warnings.warn(\n"
     ]
    }
   ],
   "source": [
    "# Model SKLearn\n",
    "sklearn_model = MLPClassifier(\n",
    "    hidden_layer_sizes=hidden_sizes,\n",
    "    activation='relu',\n",
    "    solver='sgd', \n",
    "    learning_rate_init=0.01,\n",
    "    max_iter=10,\n",
    "    random_state=42\n",
    ")\n",
    "\n",
    "# Training\n",
    "print(\"\\nTraining sklearn MLPClassifier...\")\n",
    "start_time = time.time()\n",
    "sklearn_model.fit(X_train, y_train)\n",
    "sklearn_training_time = time.time() - start_time\n",
    "print(f\"sklearn MLPClassifier training time: {sklearn_training_time:.2f} seconds\")\n",
    "\n",
    "# Prediksi\n",
    "sklearn_predictions = sklearn_model.predict(X_test)\n",
    "sklearn_accuracy = accuracy_score(y_test, sklearn_predictions)\n",
    "print(f\"SKLearn Prediction : {sklearn_accuracy}\")\n"
   ]
  },
  {
   "cell_type": "code",
   "execution_count": 6,
   "metadata": {},
   "outputs": [
    {
     "name": "stdout",
     "output_type": "stream",
     "text": [
      "\n",
      "FFNN\n",
      "Custom FFNN training time: 17.25 seconds\n",
      "Akurasi FFNN: 0.9627142857142857\n"
     ]
    }
   ],
   "source": [
    "# Model FFNN tanpa RMSNorm\n",
    "ffnn_model = FFNN(\n",
    "    layer_sizes=[input_size] + hidden_sizes + [output_size],\n",
    "    activations=['relu'] * len(hidden_sizes) + ['softmax'],\n",
    "    loss='categorical_cross_entropy',\n",
    "    weight_init='he',\n",
    ")\n",
    "\n",
    "# Training\n",
    "print(\"\\nFFNN\")\n",
    "start_time = time.time()\n",
    "ffnn_history = ffnn_model.train(\n",
    "    X_train, y_train_one_hot,\n",
    "    batch_size=32,\n",
    "    learning_rate=0.01,\n",
    "    epochs=10,\n",
    "    verbose=0\n",
    ")\n",
    "ffnn_training_time = time.time() - start_time\n",
    "print(f\"Custom FFNN training time: {ffnn_training_time:.2f} seconds\")\n",
    "\n",
    "# Prediksi\n",
    "ffnn_predictions = ffnn_model.predict(X_test)\n",
    "ffnn_pred_classes = np.argmax(ffnn_predictions, axis=1)\n",
    "ffnn_accuracy = accuracy_score(y_test, ffnn_pred_classes)\n",
    "print(\"Akurasi FFNN: \" + str(ffnn_accuracy))\n",
    "\n",
    "# Visualisasi\n",
    "# ffnn_model.plot_loss(history=ffnn_history)\n",
    "# ffnn_model.plot_weight_distribution()\n",
    "# ffnn_model.plot_gradient_distribution()"
   ]
  }
 ],
 "metadata": {
  "kernelspec": {
   "display_name": "Python 3",
   "language": "python",
   "name": "python3"
  },
  "language_info": {
   "codemirror_mode": {
    "name": "ipython",
    "version": 3
   },
   "file_extension": ".py",
   "mimetype": "text/x-python",
   "name": "python",
   "nbconvert_exporter": "python",
   "pygments_lexer": "ipython3",
   "version": "3.11.1"
  }
 },
 "nbformat": 4,
 "nbformat_minor": 2
}
