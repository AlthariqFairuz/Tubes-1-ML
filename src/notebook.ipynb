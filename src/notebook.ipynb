{
 "cells": [
  {
   "cell_type": "code",
   "execution_count": 72,
   "metadata": {},
   "outputs": [],
   "source": [
    "import numpy as np\n",
    "import matplotlib.pyplot as plt\n",
    "from sklearn.datasets import fetch_openml\n",
    "from sklearn.model_selection import train_test_split\n",
    "from sklearn.neural_network import MLPClassifier\n",
    "from sklearn.metrics import accuracy_score\n",
    "from sklearn.preprocessing import OneHotEncoder\n",
    "import time"
   ]
  },
  {
   "cell_type": "code",
   "execution_count": 73,
   "metadata": {},
   "outputs": [],
   "source": [
    "from models import FFNN"
   ]
  },
  {
   "cell_type": "code",
   "execution_count": 74,
   "metadata": {},
   "outputs": [
    {
     "name": "stdout",
     "output_type": "stream",
     "text": [
      "Downloading MNIST dataset...\n"
     ]
    }
   ],
   "source": [
    "print(\"Downloading MNIST dataset...\")\n",
    "X, y = fetch_openml('mnist_784', version=1, return_X_y=True, parser='auto')\n",
    "X = X.astype(float)\n",
    "y = y.astype(int)"
   ]
  },
  {
   "cell_type": "code",
   "execution_count": 75,
   "metadata": {},
   "outputs": [],
   "source": [
    "X = np.array(X)\n",
    "y = np.array(y)"
   ]
  },
  {
   "cell_type": "code",
   "execution_count": 76,
   "metadata": {},
   "outputs": [],
   "source": [
    "X = X / 255.0"
   ]
  },
  {
   "cell_type": "code",
   "execution_count": 77,
   "metadata": {},
   "outputs": [],
   "source": [
    "X_train, X_test, y_train, y_test = train_test_split(X, y, test_size=0.2, random_state=42)"
   ]
  },
  {
   "cell_type": "code",
   "execution_count": 78,
   "metadata": {},
   "outputs": [],
   "source": [
    "encoder = OneHotEncoder(sparse_output=False, categories='auto')\n",
    "y_train_one_hot = encoder.fit_transform(y_train.reshape(-1, 1))\n",
    "y_test_one_hot = encoder.transform(y_test.reshape(-1, 1))"
   ]
  },
  {
   "cell_type": "code",
   "execution_count": 79,
   "metadata": {},
   "outputs": [],
   "source": [
    "input_size = 784  # images 28x28 = 784 pixels\n",
    "hidden_sizes = [64] \n",
    "output_size = 10  # digits 0-9"
   ]
  },
  {
   "cell_type": "code",
   "execution_count": 80,
   "metadata": {},
   "outputs": [],
   "source": [
    "ffnn_model = FFNN(\n",
    "    layer_sizes=[input_size] + hidden_sizes + [output_size],\n",
    "    activations=['relu'] * len(hidden_sizes) + ['softmax'],\n",
    "    loss='categorical_cross_entropy',\n",
    "    weight_init='he'\n",
    ")"
   ]
  },
  {
   "cell_type": "code",
   "execution_count": 81,
   "metadata": {},
   "outputs": [],
   "source": [
    "sklearn_model = MLPClassifier(\n",
    "    hidden_layer_sizes=hidden_sizes,\n",
    "    activation='relu',\n",
    "    solver='sgd', \n",
    "    learning_rate_init=0.01,\n",
    "    max_iter=10,\n",
    "    random_state=42\n",
    ")"
   ]
  },
  {
   "cell_type": "code",
   "execution_count": 82,
   "metadata": {},
   "outputs": [
    {
     "name": "stdout",
     "output_type": "stream",
     "text": [
      "\n",
      "Training custom FFNN model...\n",
      "Epoch 1/10, Train Loss: 0.6549\n",
      "Epoch 2/10, Train Loss: 0.3471\n",
      "Epoch 3/10, Train Loss: 0.3002\n",
      "Epoch 4/10, Train Loss: 0.2709\n",
      "Epoch 5/10, Train Loss: 0.2483\n",
      "Epoch 6/10, Train Loss: 0.2298\n",
      "Epoch 7/10, Train Loss: 0.2141\n",
      "Epoch 8/10, Train Loss: 0.2008\n",
      "Epoch 9/10, Train Loss: 0.1891\n",
      "Epoch 10/10, Train Loss: 0.1791\n",
      "Custom FFNN training time: 10.23 seconds\n"
     ]
    }
   ],
   "source": [
    "print(\"\\nTraining custom FFNN model...\")\n",
    "start_time = time.time()\n",
    "ffnn_history = ffnn_model.train(\n",
    "    X_train, y_train_one_hot,\n",
    "    batch_size=32,\n",
    "    learning_rate=0.01,\n",
    "    epochs=10,\n",
    "    verbose=1\n",
    ")\n",
    "ffnn_training_time = time.time() - start_time\n",
    "print(f\"Custom FFNN training time: {ffnn_training_time:.2f} seconds\")"
   ]
  },
  {
   "cell_type": "code",
   "execution_count": 83,
   "metadata": {},
   "outputs": [
    {
     "data": {
      "text/plain": [
       "0.9482857142857143"
      ]
     },
     "execution_count": 83,
     "metadata": {},
     "output_type": "execute_result"
    }
   ],
   "source": [
    "ffnn_predictions = ffnn_model.predict(X_test)\n",
    "ffnn_pred_classes = np.argmax(ffnn_predictions, axis=1)\n",
    "ffnn_accuracy = accuracy_score(y_test, ffnn_pred_classes)\n",
    "ffnn_accuracy"
   ]
  },
  {
   "cell_type": "code",
   "execution_count": 84,
   "metadata": {},
   "outputs": [
    {
     "name": "stdout",
     "output_type": "stream",
     "text": [
      "\n",
      "Training sklearn MLPClassifier...\n",
      "sklearn MLPClassifier training time: 4.66 seconds\n"
     ]
    },
    {
     "name": "stderr",
     "output_type": "stream",
     "text": [
      "C:\\Users\\Lenovo\\AppData\\Roaming\\Python\\Python312\\site-packages\\sklearn\\neural_network\\_multilayer_perceptron.py:690: ConvergenceWarning: Stochastic Optimizer: Maximum iterations (10) reached and the optimization hasn't converged yet.\n",
      "  warnings.warn(\n"
     ]
    }
   ],
   "source": [
    "print(\"\\nTraining sklearn MLPClassifier...\")\n",
    "start_time = time.time()\n",
    "sklearn_model.fit(X_train, y_train)\n",
    "sklearn_training_time = time.time() - start_time\n",
    "print(f\"sklearn MLPClassifier training time: {sklearn_training_time:.2f} seconds\")"
   ]
  },
  {
   "cell_type": "code",
   "execution_count": 85,
   "metadata": {},
   "outputs": [
    {
     "data": {
      "text/plain": [
       "0.9530714285714286"
      ]
     },
     "execution_count": 85,
     "metadata": {},
     "output_type": "execute_result"
    }
   ],
   "source": [
    "sklearn_predictions = sklearn_model.predict(X_test)\n",
    "sklearn_accuracy = accuracy_score(y_test, sklearn_predictions)\n",
    "sklearn_accuracy"
   ]
  },
  {
   "cell_type": "markdown",
   "metadata": {},
   "source": [
    "### Coba coba dataset lain"
   ]
  },
  {
   "cell_type": "code",
   "execution_count": 86,
   "metadata": {},
   "outputs": [
    {
     "data": {
      "text/html": [
       "<div>\n",
       "<style scoped>\n",
       "    .dataframe tbody tr th:only-of-type {\n",
       "        vertical-align: middle;\n",
       "    }\n",
       "\n",
       "    .dataframe tbody tr th {\n",
       "        vertical-align: top;\n",
       "    }\n",
       "\n",
       "    .dataframe thead th {\n",
       "        text-align: right;\n",
       "    }\n",
       "</style>\n",
       "<table border=\"1\" class=\"dataframe\">\n",
       "  <thead>\n",
       "    <tr style=\"text-align: right;\">\n",
       "      <th></th>\n",
       "      <th>gender</th>\n",
       "      <th>age</th>\n",
       "      <th>hypertension</th>\n",
       "      <th>heart_disease</th>\n",
       "      <th>ever_married</th>\n",
       "      <th>work_type</th>\n",
       "      <th>Residence_type</th>\n",
       "      <th>avg_glucose_level</th>\n",
       "      <th>bmi</th>\n",
       "      <th>smoking_status</th>\n",
       "      <th>stroke</th>\n",
       "    </tr>\n",
       "    <tr>\n",
       "      <th>id</th>\n",
       "      <th></th>\n",
       "      <th></th>\n",
       "      <th></th>\n",
       "      <th></th>\n",
       "      <th></th>\n",
       "      <th></th>\n",
       "      <th></th>\n",
       "      <th></th>\n",
       "      <th></th>\n",
       "      <th></th>\n",
       "      <th></th>\n",
       "    </tr>\n",
       "  </thead>\n",
       "  <tbody>\n",
       "    <tr>\n",
       "      <th>9046</th>\n",
       "      <td>Male</td>\n",
       "      <td>67.0</td>\n",
       "      <td>0</td>\n",
       "      <td>1</td>\n",
       "      <td>Yes</td>\n",
       "      <td>Private</td>\n",
       "      <td>Urban</td>\n",
       "      <td>228.69</td>\n",
       "      <td>36.6</td>\n",
       "      <td>formerly smoked</td>\n",
       "      <td>1</td>\n",
       "    </tr>\n",
       "    <tr>\n",
       "      <th>51676</th>\n",
       "      <td>Female</td>\n",
       "      <td>61.0</td>\n",
       "      <td>0</td>\n",
       "      <td>0</td>\n",
       "      <td>Yes</td>\n",
       "      <td>Self-employed</td>\n",
       "      <td>Rural</td>\n",
       "      <td>202.21</td>\n",
       "      <td>NaN</td>\n",
       "      <td>never smoked</td>\n",
       "      <td>1</td>\n",
       "    </tr>\n",
       "    <tr>\n",
       "      <th>31112</th>\n",
       "      <td>Male</td>\n",
       "      <td>80.0</td>\n",
       "      <td>0</td>\n",
       "      <td>1</td>\n",
       "      <td>Yes</td>\n",
       "      <td>Private</td>\n",
       "      <td>Rural</td>\n",
       "      <td>105.92</td>\n",
       "      <td>32.5</td>\n",
       "      <td>never smoked</td>\n",
       "      <td>1</td>\n",
       "    </tr>\n",
       "    <tr>\n",
       "      <th>60182</th>\n",
       "      <td>Female</td>\n",
       "      <td>49.0</td>\n",
       "      <td>0</td>\n",
       "      <td>0</td>\n",
       "      <td>Yes</td>\n",
       "      <td>Private</td>\n",
       "      <td>Urban</td>\n",
       "      <td>171.23</td>\n",
       "      <td>34.4</td>\n",
       "      <td>smokes</td>\n",
       "      <td>1</td>\n",
       "    </tr>\n",
       "    <tr>\n",
       "      <th>1665</th>\n",
       "      <td>Female</td>\n",
       "      <td>79.0</td>\n",
       "      <td>1</td>\n",
       "      <td>0</td>\n",
       "      <td>Yes</td>\n",
       "      <td>Self-employed</td>\n",
       "      <td>Rural</td>\n",
       "      <td>174.12</td>\n",
       "      <td>24.0</td>\n",
       "      <td>never smoked</td>\n",
       "      <td>1</td>\n",
       "    </tr>\n",
       "  </tbody>\n",
       "</table>\n",
       "</div>"
      ],
      "text/plain": [
       "       gender   age  hypertension  heart_disease ever_married      work_type  \\\n",
       "id                                                                             \n",
       "9046     Male  67.0             0              1          Yes        Private   \n",
       "51676  Female  61.0             0              0          Yes  Self-employed   \n",
       "31112    Male  80.0             0              1          Yes        Private   \n",
       "60182  Female  49.0             0              0          Yes        Private   \n",
       "1665   Female  79.0             1              0          Yes  Self-employed   \n",
       "\n",
       "      Residence_type  avg_glucose_level   bmi   smoking_status  stroke  \n",
       "id                                                                      \n",
       "9046           Urban             228.69  36.6  formerly smoked       1  \n",
       "51676          Rural             202.21   NaN     never smoked       1  \n",
       "31112          Rural             105.92  32.5     never smoked       1  \n",
       "60182          Urban             171.23  34.4           smokes       1  \n",
       "1665           Rural             174.12  24.0     never smoked       1  "
      ]
     },
     "execution_count": 86,
     "metadata": {},
     "output_type": "execute_result"
    }
   ],
   "source": [
    "import pandas as pd\n",
    "df = pd.read_csv('./data-coba-coba/dataset1.csv', index_col='id')\n",
    "df.head()"
   ]
  },
  {
   "cell_type": "code",
   "execution_count": 87,
   "metadata": {},
   "outputs": [],
   "source": [
    "# KNNeighbour\n",
    "from sklearn.neighbors import KNeighborsRegressor\n",
    "\n",
    "\n",
    "def knn_imputer(df, target_feat):\n",
    "  df= df.copy()\n",
    "\n",
    "  numeric_df= df.select_dtypes(include=[np.number])\n",
    "  non_empty_feature= numeric_df.loc[:, numeric_df.isna().sum() == 0].columns\n",
    "\n",
    "  X_train= numeric_df.loc[numeric_df[target_feat].isna() == False, non_empty_feature]\n",
    "  y_train= numeric_df.loc[numeric_df[target_feat].isna() == False, target_feat]\n",
    "  X_test= numeric_df.loc[numeric_df[target_feat].isna() == True, non_empty_feature]\n",
    "\n",
    "  knn = KNeighborsRegressor()\n",
    "  knn.fit(X_train, y_train)\n",
    "\n",
    "  y_pred = knn.predict(X_test)\n",
    "\n",
    "  df.loc[df[target_feat].isna() == True, target_feat] = y_pred\n",
    "\n",
    "  return df\n",
    "\n",
    "target_feat = [col for col in df.columns if df[col].isnull().sum()!=0]\n",
    "\n",
    "for col in target_feat:\n",
    "    df = knn_imputer(df, col)"
   ]
  },
  {
   "cell_type": "code",
   "execution_count": 88,
   "metadata": {},
   "outputs": [],
   "source": [
    "cat_df = ['gender', 'hypertension', 'heart_disease', 'ever_married', 'work_type', 'Residence_type', 'smoking_status']\n",
    "num_df = ['age', 'avg_glucose_level', 'bmi']"
   ]
  },
  {
   "cell_type": "code",
   "execution_count": 89,
   "metadata": {},
   "outputs": [],
   "source": [
    "# Apply log transformation\n",
    "df['avg_glucose_level']= np.log(df['avg_glucose_level'])\n",
    "df['bmi']= np.log(df['bmi'])"
   ]
  },
  {
   "cell_type": "code",
   "execution_count": 90,
   "metadata": {},
   "outputs": [],
   "source": [
    "# Drop the row with Other for gender since it's just a single instance\n",
    "df = df[df['gender'] != 'Other']\n",
    "\n",
    "# Convert categorical variables to numerical format using one hot encoding\n",
    "df= pd.get_dummies(df, columns= cat_df)\n",
    "for feat in df.columns:\n",
    "  if df[feat].dtype == 'bool':\n",
    "    df[feat]= df[feat].astype('int')"
   ]
  },
  {
   "cell_type": "code",
   "execution_count": 91,
   "metadata": {},
   "outputs": [
    {
     "name": "stdout",
     "output_type": "stream",
     "text": [
      "<class 'pandas.core.frame.DataFrame'>\n",
      "Index: 5109 entries, 9046 to 44679\n",
      "Data columns (total 22 columns):\n",
      " #   Column                          Non-Null Count  Dtype  \n",
      "---  ------                          --------------  -----  \n",
      " 0   age                             5109 non-null   float64\n",
      " 1   avg_glucose_level               5109 non-null   float64\n",
      " 2   bmi                             5109 non-null   float64\n",
      " 3   gender_Female                   5109 non-null   int32  \n",
      " 4   gender_Male                     5109 non-null   int32  \n",
      " 5   hypertension_0                  5109 non-null   int32  \n",
      " 6   hypertension_1                  5109 non-null   int32  \n",
      " 7   heart_disease_0                 5109 non-null   int32  \n",
      " 8   heart_disease_1                 5109 non-null   int32  \n",
      " 9   ever_married_No                 5109 non-null   int32  \n",
      " 10  ever_married_Yes                5109 non-null   int32  \n",
      " 11  work_type_Govt_job              5109 non-null   int32  \n",
      " 12  work_type_Never_worked          5109 non-null   int32  \n",
      " 13  work_type_Private               5109 non-null   int32  \n",
      " 14  work_type_Self-employed         5109 non-null   int32  \n",
      " 15  work_type_children              5109 non-null   int32  \n",
      " 16  Residence_type_Rural            5109 non-null   int32  \n",
      " 17  Residence_type_Urban            5109 non-null   int32  \n",
      " 18  smoking_status_Unknown          5109 non-null   int32  \n",
      " 19  smoking_status_formerly smoked  5109 non-null   int32  \n",
      " 20  smoking_status_never smoked     5109 non-null   int32  \n",
      " 21  smoking_status_smokes           5109 non-null   int32  \n",
      "dtypes: float64(3), int32(19)\n",
      "memory usage: 538.8 KB\n"
     ]
    }
   ],
   "source": [
    "# Split the data into X and y\n",
    "X= df.drop('stroke', axis=1)\n",
    "y= df['stroke']\n",
    "\n",
    "X.info()"
   ]
  },
  {
   "cell_type": "code",
   "execution_count": 92,
   "metadata": {},
   "outputs": [],
   "source": [
    "X= X.to_numpy()\n",
    "y= y.to_numpy()"
   ]
  },
  {
   "cell_type": "code",
   "execution_count": 93,
   "metadata": {},
   "outputs": [],
   "source": [
    "X_train,X_test,y_train,y_test= train_test_split(X, y, shuffle=True, test_size=0.1, random_state=42)"
   ]
  },
  {
   "cell_type": "code",
   "execution_count": 94,
   "metadata": {},
   "outputs": [],
   "source": [
    "y_train = y_train.reshape(-1, 1)\n",
    "y_test = y_test.reshape(-1, 1)"
   ]
  },
  {
   "cell_type": "code",
   "execution_count": 95,
   "metadata": {},
   "outputs": [],
   "source": [
    "ffnn_model = FFNN(\n",
    "    layer_sizes= [22] + [64, 32] + [1],\n",
    "    activations=['relu'] * 2 + ['sigmoid'],\n",
    "    loss='binary_cross_entropy',\n",
    "    weight_init='he'\n",
    ")"
   ]
  },
  {
   "cell_type": "code",
   "execution_count": 96,
   "metadata": {},
   "outputs": [
    {
     "name": "stdout",
     "output_type": "stream",
     "text": [
      "Epoch 1/10, Train Loss: 0.3833\n",
      "Epoch 2/10, Train Loss: 0.2144\n",
      "Epoch 3/10, Train Loss: 0.1893\n",
      "Epoch 4/10, Train Loss: 0.1880\n",
      "Epoch 5/10, Train Loss: 0.1797\n",
      "Epoch 6/10, Train Loss: 0.1803\n",
      "Epoch 7/10, Train Loss: 0.1745\n",
      "Epoch 8/10, Train Loss: 0.1736\n",
      "Epoch 9/10, Train Loss: 0.1687\n",
      "Epoch 10/10, Train Loss: 0.1705\n"
     ]
    }
   ],
   "source": [
    "ffnn_history = ffnn_model.train(\n",
    "    X_train, y_train,\n",
    "    batch_size=32,\n",
    "    learning_rate=0.01,\n",
    "    epochs=10,\n",
    "    verbose=1\n",
    ")"
   ]
  },
  {
   "cell_type": "code",
   "execution_count": 97,
   "metadata": {},
   "outputs": [
    {
     "data": {
      "text/plain": [
       "0.9452054794520548"
      ]
     },
     "execution_count": 97,
     "metadata": {},
     "output_type": "execute_result"
    }
   ],
   "source": [
    "ffnn_predictions = ffnn_model.predict(X_test)\n",
    "ffnn_pred_classes = np.argmax(ffnn_predictions, axis=1)\n",
    "ffnn_accuracy = accuracy_score(y_test, ffnn_pred_classes)\n",
    "ffnn_accuracy"
   ]
  }
 ],
 "metadata": {
  "kernelspec": {
   "display_name": "Python 3",
   "language": "python",
   "name": "python3"
  },
  "language_info": {
   "codemirror_mode": {
    "name": "ipython",
    "version": 3
   },
   "file_extension": ".py",
   "mimetype": "text/x-python",
   "name": "python",
   "nbconvert_exporter": "python",
   "pygments_lexer": "ipython3",
   "version": "3.12.4"
  }
 },
 "nbformat": 4,
 "nbformat_minor": 2
}
