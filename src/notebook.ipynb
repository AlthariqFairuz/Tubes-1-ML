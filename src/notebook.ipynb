{
 "cells": [
  {
   "cell_type": "code",
   "execution_count": 16,
   "metadata": {},
   "outputs": [],
   "source": [
    "import numpy as np\n",
    "import matplotlib.pyplot as plt\n",
    "from sklearn.datasets import fetch_openml\n",
    "from sklearn.model_selection import train_test_split\n",
    "from sklearn.neural_network import MLPClassifier\n",
    "from sklearn.metrics import accuracy_score\n",
    "from sklearn.preprocessing import OneHotEncoder\n",
    "import time"
   ]
  },
  {
   "cell_type": "code",
   "execution_count": 17,
   "metadata": {},
   "outputs": [],
   "source": [
    "from models import FFNN"
   ]
  },
  {
   "cell_type": "code",
   "execution_count": 18,
   "metadata": {},
   "outputs": [
    {
     "name": "stdout",
     "output_type": "stream",
     "text": [
      "Downloading MNIST dataset...\n"
     ]
    }
   ],
   "source": [
    "print(\"Downloading MNIST dataset...\")\n",
    "X, y = fetch_openml('mnist_784', version=1, return_X_y=True, parser='auto')\n",
    "X = X.astype(float)\n",
    "y = y.astype(int)"
   ]
  },
  {
   "cell_type": "code",
   "execution_count": 19,
   "metadata": {},
   "outputs": [],
   "source": [
    "X = np.array(X)\n",
    "y = np.array(y)"
   ]
  },
  {
   "cell_type": "code",
   "execution_count": 20,
   "metadata": {},
   "outputs": [],
   "source": [
    "X = X / 255.0"
   ]
  },
  {
   "cell_type": "code",
   "execution_count": 21,
   "metadata": {},
   "outputs": [],
   "source": [
    "X_train, X_test, y_train, y_test = train_test_split(X, y, test_size=0.2, random_state=42)"
   ]
  },
  {
   "cell_type": "code",
   "execution_count": 22,
   "metadata": {},
   "outputs": [],
   "source": [
    "encoder = OneHotEncoder(sparse_output=False, categories='auto')\n",
    "y_train_one_hot = encoder.fit_transform(y_train.reshape(-1, 1))\n",
    "y_test_one_hot = encoder.transform(y_test.reshape(-1, 1))"
   ]
  },
  {
   "cell_type": "code",
   "execution_count": 23,
   "metadata": {},
   "outputs": [],
   "source": [
    "input_size = 784  # images 28x28 = 784 pixels\n",
    "hidden_sizes = [64] \n",
    "output_size = 10  # digits 0-9"
   ]
  },
  {
   "cell_type": "code",
   "execution_count": 24,
   "metadata": {},
   "outputs": [],
   "source": [
    "ffnn_model = FFNN(\n",
    "    layer_sizes=[input_size] + hidden_sizes + [output_size],\n",
    "    activations=['relu'] * len(hidden_sizes) + ['softmax'],\n",
    "    loss='categorical_cross_entropy',\n",
    "    weight_init='he'\n",
    ")"
   ]
  },
  {
   "cell_type": "code",
   "execution_count": 25,
   "metadata": {},
   "outputs": [],
   "source": [
    "sklearn_model = MLPClassifier(\n",
    "    hidden_layer_sizes=hidden_sizes,\n",
    "    activation='relu',\n",
    "    solver='sgd', \n",
    "    learning_rate_init=0.01,\n",
    "    max_iter=10,\n",
    "    random_state=42\n",
    ")"
   ]
  },
  {
   "cell_type": "code",
   "execution_count": 26,
   "metadata": {},
   "outputs": [
    {
     "name": "stdout",
     "output_type": "stream",
     "text": [
      "\n",
      "Training custom FFNN model...\n",
      "Epoch 1/10, Train Loss: 0.7104\n",
      "Epoch 2/10, Train Loss: 0.3466\n",
      "Epoch 3/10, Train Loss: 0.2957\n",
      "Epoch 4/10, Train Loss: 0.2663\n",
      "Epoch 5/10, Train Loss: 0.2439\n",
      "Epoch 6/10, Train Loss: 0.2260\n",
      "Epoch 7/10, Train Loss: 0.2107\n",
      "Epoch 8/10, Train Loss: 0.1977\n",
      "Epoch 9/10, Train Loss: 0.1865\n",
      "Epoch 10/10, Train Loss: 0.1768\n",
      "Custom FFNN training time: 10.54 seconds\n"
     ]
    }
   ],
   "source": [
    "print(\"\\nTraining custom FFNN model...\")\n",
    "start_time = time.time()\n",
    "ffnn_history = ffnn_model.train(\n",
    "    X_train, y_train_one_hot,\n",
    "    batch_size=32,\n",
    "    learning_rate=0.01,\n",
    "    epochs=10,\n",
    "    verbose=1\n",
    ")\n",
    "ffnn_training_time = time.time() - start_time\n",
    "print(f\"Custom FFNN training time: {ffnn_training_time:.2f} seconds\")"
   ]
  },
  {
   "cell_type": "code",
   "execution_count": 27,
   "metadata": {},
   "outputs": [
    {
     "data": {
      "text/plain": [
       "0.9472857142857143"
      ]
     },
     "execution_count": 27,
     "metadata": {},
     "output_type": "execute_result"
    }
   ],
   "source": [
    "ffnn_predictions = ffnn_model.predict(X_test)\n",
    "ffnn_pred_classes = np.argmax(ffnn_predictions, axis=1)\n",
    "ffnn_accuracy = accuracy_score(y_test, ffnn_pred_classes)\n",
    "ffnn_accuracy"
   ]
  },
  {
   "cell_type": "code",
   "execution_count": 28,
   "metadata": {},
   "outputs": [
    {
     "name": "stdout",
     "output_type": "stream",
     "text": [
      "\n",
      "Training sklearn MLPClassifier...\n",
      "sklearn MLPClassifier training time: 4.74 seconds\n"
     ]
    },
    {
     "name": "stderr",
     "output_type": "stream",
     "text": [
      "C:\\Users\\Lenovo\\AppData\\Roaming\\Python\\Python312\\site-packages\\sklearn\\neural_network\\_multilayer_perceptron.py:690: ConvergenceWarning: Stochastic Optimizer: Maximum iterations (10) reached and the optimization hasn't converged yet.\n",
      "  warnings.warn(\n"
     ]
    }
   ],
   "source": [
    "print(\"\\nTraining sklearn MLPClassifier...\")\n",
    "start_time = time.time()\n",
    "sklearn_model.fit(X_train, y_train)\n",
    "sklearn_training_time = time.time() - start_time\n",
    "print(f\"sklearn MLPClassifier training time: {sklearn_training_time:.2f} seconds\")"
   ]
  },
  {
   "cell_type": "code",
   "execution_count": 29,
   "metadata": {},
   "outputs": [
    {
     "data": {
      "text/plain": [
       "0.9530714285714286"
      ]
     },
     "execution_count": 29,
     "metadata": {},
     "output_type": "execute_result"
    }
   ],
   "source": [
    "sklearn_predictions = sklearn_model.predict(X_test)\n",
    "sklearn_accuracy = accuracy_score(y_test, sklearn_predictions)\n",
    "sklearn_accuracy"
   ]
  }
 ],
 "metadata": {
  "kernelspec": {
   "display_name": "Python 3",
   "language": "python",
   "name": "python3"
  },
  "language_info": {
   "codemirror_mode": {
    "name": "ipython",
    "version": 3
   },
   "file_extension": ".py",
   "mimetype": "text/x-python",
   "name": "python",
   "nbconvert_exporter": "python",
   "pygments_lexer": "ipython3",
   "version": "3.12.4"
  }
 },
 "nbformat": 4,
 "nbformat_minor": 2
}
